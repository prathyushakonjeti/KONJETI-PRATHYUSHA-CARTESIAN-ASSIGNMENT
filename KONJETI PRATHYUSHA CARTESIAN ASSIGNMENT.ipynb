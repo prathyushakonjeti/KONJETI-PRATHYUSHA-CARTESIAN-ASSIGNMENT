{
 "cells": [
  {
   "cell_type": "markdown",
   "id": "7047d119",
   "metadata": {},
   "source": [
    "## The program takes input a short abstract and outputs the following"
   ]
  },
  {
   "cell_type": "markdown",
   "id": "a1d91bd6",
   "metadata": {},
   "source": [
    "## 1.prints each word in reverse."
   ]
  },
  {
   "cell_type": "code",
   "execution_count": 1,
   "id": "3e7890ef",
   "metadata": {},
   "outputs": [
    {
     "name": "stdout",
     "output_type": "stream",
     "text": [
      "This declaration represents a political commitment among declaration partners to advance a positive vision for the Internet in this era of a united europe\n",
      "Europe united a of era this in internet the for vision positive a advance to partners declaration among commitment political a represents declaration this\n"
     ]
    }
   ],
   "source": [
    "new_string=input()\n",
    "a=new_string.split(' ')\n",
    "reverse_string=' '.join(a[::-1]).lower()\n",
    "b=reverse_string.capitalize()\n",
    "print(b)"
   ]
  },
  {
   "cell_type": "markdown",
   "id": "a9806a55",
   "metadata": {},
   "source": [
    "## 2.prints Top 2 occurring words in sorted order. The words that have occurred most of \n",
    "## the time"
   ]
  },
  {
   "cell_type": "code",
   "execution_count": 2,
   "id": "fdae371e",
   "metadata": {},
   "outputs": [
    {
     "name": "stdout",
     "output_type": "stream",
     "text": [
      "[('a', 3), ('this', 2)]\n"
     ]
    }
   ],
   "source": [
    "from collections import Counter\n",
    "split_it = b.split()\n",
    "Counter = Counter(split_it)\n",
    "most_occur = Counter.most_common(2)\n",
    "print(most_occur)"
   ]
  },
  {
   "cell_type": "markdown",
   "id": "59532195",
   "metadata": {},
   "source": [
    "## ANOTHER APPROACH"
   ]
  },
  {
   "cell_type": "code",
   "execution_count": 3,
   "id": "ceca76f8",
   "metadata": {},
   "outputs": [
    {
     "data": {
      "text/plain": [
       "{'a': 3, 'this': 2, 'declaration': 2}"
      ]
     },
     "execution_count": 3,
     "metadata": {},
     "output_type": "execute_result"
    }
   ],
   "source": [
    "# FOR WORD COUNT \n",
    "from collections import Counter\n",
    "def word_count(str):\n",
    "    counts = dict()\n",
    "    words = str.split()\n",
    "\n",
    "    for word in words:\n",
    "        if word in counts:\n",
    "            counts[word] += 1\n",
    "        else:\n",
    "            counts[word] = 1\n",
    "\n",
    "    return counts\n",
    "s=word_count(reverse_string)\n",
    "dict(Counter(s).most_common(3))"
   ]
  },
  {
   "cell_type": "markdown",
   "id": "aaaf4820",
   "metadata": {},
   "source": [
    "## ASSIGNMENT-0SQL"
   ]
  },
  {
   "cell_type": "markdown",
   "id": "2af4434c",
   "metadata": {},
   "source": [
    "### Develop a SQL query that will find out two Products for each product category that are most popular\n",
    "### in last 30 days. Popularity is based on maximum quantity sold in a particular category."
   ]
  },
  {
   "cell_type": "code",
   "execution_count": null,
   "id": "fa849e82",
   "metadata": {},
   "outputs": [],
   "source": [
    "CREATE TABLE sales_details(item_id VARCHAR(20),item_price INT,items_sold INT)\n",
    "EXEC sp_columns sales_details\n",
    "INSERT INTO sales_details VALUES\n",
    "('I4001',20000, 5000),\n",
    "('I4098',1000, 10000),\n",
    "('I4010',200, 800),\n",
    "('I4056',30000, 100000),\n",
    "('I4068',990, 780),\n",
    "('I4072',10000, 9000),\n",
    "('I4078',100000, 10),\n",
    "('I4090',200000, 500)\n",
    "SELECT * FROM sales_details  \n",
    "ORDER BY items_sold DESC\n",
    "SELECT TOP 5  item_id , items_sold  \n",
    "FROM sales_details ORDER BY  items_sold DESC\n"
   ]
  },
  {
   "cell_type": "markdown",
   "id": "0c6325c6",
   "metadata": {},
   "source": [
    "## ASSIGNMENT-02SQL"
   ]
  },
  {
   "cell_type": "markdown",
   "id": "8e646ca5",
   "metadata": {},
   "source": [
    "## There is a Customer Table having a single column with list of customer id. There is a Voucher tablehaving a single column with list of voucher ids."
   ]
  },
  {
   "cell_type": "markdown",
   "id": "5087911e",
   "metadata": {},
   "source": [
    "## Develop a query that will assign one voucher to one customer and vice versa. Two customers will not get same voucher. Two Voucher will not be assigned to a single customer."
   ]
  },
  {
   "cell_type": "code",
   "execution_count": null,
   "id": "ec8da34d",
   "metadata": {},
   "outputs": [],
   "source": [
    " ## CREATE THE TABLE CUSTOMER\n",
    " ## INSERT THE VALUES\n",
    " CREATE TABLE Customer (Customer_Id varchar(255));\n",
    " INSERT INTO Customer VALUES('Customer_Id'),('Abhinash'),('Vipin'),('Mahesh'),('Bijoy'),('Bhabani'),('Ashutosh')\n",
    " ## CREATE THE TABLE VOCHER\n",
    " ## INSERT THE VALUES\n",
    " CREATE TABLE Voucher (Voucher_Id varchar(255) UNIQUE);\n",
    " INSERT INTO Voucher VALUES('ABXFH'),('SDFGH'),('ERTYY'),('PPLKM')\n",
    " ;with cte \n",
    " as(select *,row_number() over(order by Customer_Id) rr from Customer)\n",
    " ,cte2 as(select *,row_number() over(order by Voucher_Id) rr from Voucher)\n",
    "    \n",
    " select Customer_Id Customer_Key,Voucher_Id Gift_Voucher_Key\n",
    " from cte c1\n",
    " join cte2 c2 on c1.rr=c2.rr ## join the two tables"
   ]
  }
 ],
 "metadata": {
  "kernelspec": {
   "display_name": "Python 3 (ipykernel)",
   "language": "python",
   "name": "python3"
  },
  "language_info": {
   "codemirror_mode": {
    "name": "ipython",
    "version": 3
   },
   "file_extension": ".py",
   "mimetype": "text/x-python",
   "name": "python",
   "nbconvert_exporter": "python",
   "pygments_lexer": "ipython3",
   "version": "3.9.12"
  }
 },
 "nbformat": 4,
 "nbformat_minor": 5
}
